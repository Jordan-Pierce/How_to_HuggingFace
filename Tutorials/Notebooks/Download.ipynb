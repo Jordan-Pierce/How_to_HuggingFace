{
 "cells": [
  {
   "cell_type": "markdown",
   "metadata": {},
   "source": [
    "### Download"
   ]
  },
  {
   "cell_type": "markdown",
   "metadata": {},
   "source": [
    "### Datasets"
   ]
  },
  {
   "cell_type": "code",
   "execution_count": 2,
   "metadata": {},
   "outputs": [
    {
     "name": "stderr",
     "output_type": "stream",
     "text": [
      "Fetching 4 files: 100%|██████████| 4/4 [00:01<00:00,  3.35it/s]\n",
      "Fetching 4 files: 100%|██████████| 4/4 [00:01<00:00,  3.60it/s]\n"
     ]
    },
    {
     "data": {
      "text/plain": [
       "'C:\\\\Users\\\\jordan.pierce\\\\Documents\\\\GitHub\\\\How_to_HuggingFace\\\\Tutorials\\\\Data'"
      ]
     },
     "execution_count": 2,
     "metadata": {},
     "output_type": "execute_result"
    }
   ],
   "source": [
    "from huggingface_hub import hf_hub_download, snapshot_download\n",
    "\n",
    "# Download a file from the dataset (README.md)\n",
    "hf_hub_download(repo_id=\"ylecun/mnist\", repo_type=\"dataset\", filename=\"README.md\")\n",
    "\n",
    "# Download the whole repository (at a specific revision, point in time)\n",
    "snapshot_download(repo_id=\"ylecun/mnist\", repo_type=\"dataset\", revision=\"refs/pr/1\")\n",
    "\n",
    "# Download the whole dataset to a specific location \n",
    "snapshot_download(repo_id=\"ylecun/mnist\", repo_type=\"dataset\", revision=\"refs/pr/1\", local_dir=\"../Data\")"
   ]
  },
  {
   "cell_type": "code",
   "execution_count": null,
   "metadata": {},
   "outputs": [],
   "source": []
  }
 ],
 "metadata": {
  "kernelspec": {
   "display_name": "how_to",
   "language": "python",
   "name": "python3"
  },
  "language_info": {
   "codemirror_mode": {
    "name": "ipython",
    "version": 3
   },
   "file_extension": ".py",
   "mimetype": "text/x-python",
   "name": "python",
   "nbconvert_exporter": "python",
   "pygments_lexer": "ipython3",
   "version": "3.10.17"
  }
 },
 "nbformat": 4,
 "nbformat_minor": 2
}
